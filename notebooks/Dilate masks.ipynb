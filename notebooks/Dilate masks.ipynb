{
 "cells": [
  {
   "cell_type": "code",
   "execution_count": 16,
   "metadata": {
    "collapsed": true
   },
   "outputs": [],
   "source": [
    "import nibabel as nb"
   ]
  },
  {
   "cell_type": "code",
   "execution_count": 41,
   "metadata": {
    "collapsed": true
   },
   "outputs": [],
   "source": [
    "import glob"
   ]
  },
  {
   "cell_type": "code",
   "execution_count": 43,
   "metadata": {
    "collapsed": true
   },
   "outputs": [],
   "source": [
    "from nipype.utils.filemanip import split_filename"
   ]
  },
  {
   "cell_type": "code",
   "execution_count": 46,
   "metadata": {
    "collapsed": true
   },
   "outputs": [],
   "source": [
    "import os"
   ]
  },
  {
   "cell_type": "code",
   "execution_count": 49,
   "metadata": {
    "collapsed": true
   },
   "outputs": [],
   "source": [
    "fns = glob.glob('/Users/gilles/Downloads/ATAG_space/*/STh_*.nii.gz')"
   ]
  },
  {
   "cell_type": "code",
   "execution_count": 50,
   "metadata": {},
   "outputs": [
    {
     "ename": "KeyboardInterrupt",
     "evalue": "",
     "output_type": "error",
     "traceback": [
      "\u001b[0;31m---------------------------------------------------------------------------\u001b[0m",
      "\u001b[0;31mKeyboardInterrupt\u001b[0m                         Traceback (most recent call last)",
      "\u001b[0;32m<ipython-input-50-1dea984ee2ad>\u001b[0m in \u001b[0;36m<module>\u001b[0;34m()\u001b[0m\n\u001b[1;32m      5\u001b[0m     \u001b[0md\u001b[0m\u001b[0;34m,\u001b[0m \u001b[0mfn\u001b[0m\u001b[0;34m,\u001b[0m \u001b[0mext\u001b[0m \u001b[0;34m=\u001b[0m \u001b[0msplit_filename\u001b[0m\u001b[0;34m(\u001b[0m\u001b[0mfn\u001b[0m\u001b[0;34m)\u001b[0m\u001b[0;34m\u001b[0m\u001b[0m\n\u001b[1;32m      6\u001b[0m \u001b[0;34m\u001b[0m\u001b[0m\n\u001b[0;32m----> 7\u001b[0;31m     \u001b[0mnew_mask\u001b[0m \u001b[0;34m=\u001b[0m \u001b[0mndimage\u001b[0m\u001b[0;34m.\u001b[0m\u001b[0mbinary_dilation\u001b[0m\u001b[0;34m(\u001b[0m\u001b[0mmask\u001b[0m\u001b[0;34m.\u001b[0m\u001b[0mget_data\u001b[0m\u001b[0;34m(\u001b[0m\u001b[0;34m)\u001b[0m\u001b[0;34m,\u001b[0m \u001b[0miterations\u001b[0m\u001b[0;34m=\u001b[0m\u001b[0;36m1\u001b[0m\u001b[0;34m)\u001b[0m\u001b[0;34m\u001b[0m\u001b[0m\n\u001b[0m\u001b[1;32m      8\u001b[0m \u001b[0;34m\u001b[0m\u001b[0m\n\u001b[1;32m      9\u001b[0m     \u001b[0mimage\u001b[0m\u001b[0;34m.\u001b[0m\u001b[0mnew_img_like\u001b[0m\u001b[0;34m(\u001b[0m\u001b[0mmask\u001b[0m\u001b[0;34m,\u001b[0m \u001b[0mnew_mask\u001b[0m\u001b[0;34m)\u001b[0m\u001b[0;34m.\u001b[0m\u001b[0mto_filename\u001b[0m\u001b[0;34m(\u001b[0m\u001b[0mos\u001b[0m\u001b[0;34m.\u001b[0m\u001b[0mpath\u001b[0m\u001b[0;34m.\u001b[0m\u001b[0mjoin\u001b[0m\u001b[0;34m(\u001b[0m\u001b[0md\u001b[0m\u001b[0;34m,\u001b[0m \u001b[0mfn\u001b[0m\u001b[0;34m+\u001b[0m\u001b[0;34m'_dil'\u001b[0m\u001b[0;34m+\u001b[0m\u001b[0mext\u001b[0m\u001b[0;34m)\u001b[0m\u001b[0;34m)\u001b[0m\u001b[0;34m\u001b[0m\u001b[0m\n",
      "\u001b[0;32m/Users/gilles/anaconda3/lib/python3.6/site-packages/scipy/ndimage/morphology.py\u001b[0m in \u001b[0;36mbinary_dilation\u001b[0;34m(input, structure, iterations, mask, output, border_value, origin, brute_force)\u001b[0m\n\u001b[1;32m    500\u001b[0m \u001b[0;34m\u001b[0m\u001b[0m\n\u001b[1;32m    501\u001b[0m     return _binary_erosion(input, structure, iterations, mask,\n\u001b[0;32m--> 502\u001b[0;31m                            output, border_value, origin, 1, brute_force)\n\u001b[0m\u001b[1;32m    503\u001b[0m \u001b[0;34m\u001b[0m\u001b[0m\n\u001b[1;32m    504\u001b[0m \u001b[0;34m\u001b[0m\u001b[0m\n",
      "\u001b[0;32m/Users/gilles/anaconda3/lib/python3.6/site-packages/scipy/ndimage/morphology.py\u001b[0m in \u001b[0;36m_binary_erosion\u001b[0;34m(input, structure, iterations, mask, output, border_value, origin, invert, brute_force)\u001b[0m\n\u001b[1;32m    246\u001b[0m     \u001b[0;32mif\u001b[0m \u001b[0miterations\u001b[0m \u001b[0;34m==\u001b[0m \u001b[0;36m1\u001b[0m\u001b[0;34m:\u001b[0m\u001b[0;34m\u001b[0m\u001b[0m\n\u001b[1;32m    247\u001b[0m         _nd_image.binary_erosion(input, structure, mask, output,\n\u001b[0;32m--> 248\u001b[0;31m                                      border_value, origin, invert, cit, 0)\n\u001b[0m\u001b[1;32m    249\u001b[0m         \u001b[0;32mreturn\u001b[0m \u001b[0mreturn_value\u001b[0m\u001b[0;34m\u001b[0m\u001b[0m\n\u001b[1;32m    250\u001b[0m     \u001b[0;32melif\u001b[0m \u001b[0mcit\u001b[0m \u001b[0;32mand\u001b[0m \u001b[0;32mnot\u001b[0m \u001b[0mbrute_force\u001b[0m\u001b[0;34m:\u001b[0m\u001b[0;34m\u001b[0m\u001b[0m\n",
      "\u001b[0;31mKeyboardInterrupt\u001b[0m: "
     ]
    }
   ],
   "source": [
    "for fn in fns:\n",
    "    \n",
    "    mask = nb.load(fn)\n",
    "    \n",
    "    d, fn, ext = split_filename(fn)\n",
    "    \n",
    "    new_mask = ndimage.binary_dilation(mask.get_data(), iterations=1)\n",
    "    \n",
    "    image.new_img_like(mask, new_mask).to_filename(os.path.join(d, fn+'_dil'+ext))"
   ]
  },
  {
   "cell_type": "code",
   "execution_count": 73,
   "metadata": {
    "collapsed": true
   },
   "outputs": [],
   "source": [
    "fns = glob.glob('/Users/gilles/Downloads/ATAG_space/*/STh_*_dil.nii.gz')"
   ]
  },
  {
   "cell_type": "code",
   "execution_count": 74,
   "metadata": {},
   "outputs": [],
   "source": [
    "import re\n",
    "reg = re.compile('.*/(?P<subject_id>[A-Z0-9]{4})/(?P<mask>[A-Za-z_]+)\\.nii\\.gz')"
   ]
  },
  {
   "cell_type": "code",
   "execution_count": 83,
   "metadata": {},
   "outputs": [
    {
     "name": "stdout",
     "output_type": "stream",
     "text": [
      "IsoSurface -input /home/hollander/data/ATAG_space/BI3T/STh_L_dil.nii.gz -isoval 1 -Tsmooth 0.1 100 -o_fs BI3T_STh_L_dil\n",
      "IsoSurface -input /home/hollander/data/ATAG_space/BI3T/STh_R_dil.nii.gz -isoval 1 -Tsmooth 0.1 100 -o_fs BI3T_STh_R_dil\n",
      "IsoSurface -input /home/hollander/data/ATAG_space/FMFT/STh_L_dil.nii.gz -isoval 1 -Tsmooth 0.1 100 -o_fs FMFT_STh_L_dil\n",
      "IsoSurface -input /home/hollander/data/ATAG_space/FMFT/STh_R_dil.nii.gz -isoval 1 -Tsmooth 0.1 100 -o_fs FMFT_STh_R_dil\n",
      "IsoSurface -input /home/hollander/data/ATAG_space/HCBT/STh_L_dil.nii.gz -isoval 1 -Tsmooth 0.1 100 -o_fs HCBT_STh_L_dil\n",
      "IsoSurface -input /home/hollander/data/ATAG_space/HCBT/STh_R_dil.nii.gz -isoval 1 -Tsmooth 0.1 100 -o_fs HCBT_STh_R_dil\n",
      "IsoSurface -input /home/hollander/data/ATAG_space/KCAT/STh_L_dil.nii.gz -isoval 1 -Tsmooth 0.1 100 -o_fs KCAT_STh_L_dil\n",
      "IsoSurface -input /home/hollander/data/ATAG_space/KCAT/STh_R_dil.nii.gz -isoval 1 -Tsmooth 0.1 100 -o_fs KCAT_STh_R_dil\n",
      "IsoSurface -input /home/hollander/data/ATAG_space/KP6T/STh_L_dil.nii.gz -isoval 1 -Tsmooth 0.1 100 -o_fs KP6T_STh_L_dil\n",
      "IsoSurface -input /home/hollander/data/ATAG_space/KP6T/STh_R_dil.nii.gz -isoval 1 -Tsmooth 0.1 100 -o_fs KP6T_STh_R_dil\n",
      "IsoSurface -input /home/hollander/data/ATAG_space/LV2T/STh_L_dil.nii.gz -isoval 1 -Tsmooth 0.1 100 -o_fs LV2T_STh_L_dil\n",
      "IsoSurface -input /home/hollander/data/ATAG_space/LV2T/STh_R_dil.nii.gz -isoval 1 -Tsmooth 0.1 100 -o_fs LV2T_STh_R_dil\n",
      "IsoSurface -input /home/hollander/data/ATAG_space/MRCT/STh_L_dil.nii.gz -isoval 1 -Tsmooth 0.1 100 -o_fs MRCT_STh_L_dil\n",
      "IsoSurface -input /home/hollander/data/ATAG_space/MRCT/STh_R_dil.nii.gz -isoval 1 -Tsmooth 0.1 100 -o_fs MRCT_STh_R_dil\n",
      "IsoSurface -input /home/hollander/data/ATAG_space/NM3T/STh_L_dil.nii.gz -isoval 1 -Tsmooth 0.1 100 -o_fs NM3T_STh_L_dil\n",
      "IsoSurface -input /home/hollander/data/ATAG_space/NM3T/STh_R_dil.nii.gz -isoval 1 -Tsmooth 0.1 100 -o_fs NM3T_STh_R_dil\n",
      "IsoSurface -input /home/hollander/data/ATAG_space/PF5T/STh_L_dil.nii.gz -isoval 1 -Tsmooth 0.1 100 -o_fs PF5T_STh_L_dil\n",
      "IsoSurface -input /home/hollander/data/ATAG_space/PF5T/STh_R_dil.nii.gz -isoval 1 -Tsmooth 0.1 100 -o_fs PF5T_STh_R_dil\n",
      "IsoSurface -input /home/hollander/data/ATAG_space/RSIT/STh_L_dil.nii.gz -isoval 1 -Tsmooth 0.1 100 -o_fs RSIT_STh_L_dil\n",
      "IsoSurface -input /home/hollander/data/ATAG_space/RSIT/STh_R_dil.nii.gz -isoval 1 -Tsmooth 0.1 100 -o_fs RSIT_STh_R_dil\n",
      "IsoSurface -input /home/hollander/data/ATAG_space/TS6T/STh_L_dil.nii.gz -isoval 1 -Tsmooth 0.1 100 -o_fs TS6T_STh_L_dil\n",
      "IsoSurface -input /home/hollander/data/ATAG_space/TS6T/STh_R_dil.nii.gz -isoval 1 -Tsmooth 0.1 100 -o_fs TS6T_STh_R_dil\n",
      "IsoSurface -input /home/hollander/data/ATAG_space/UM2T/STh_L_dil.nii.gz -isoval 1 -Tsmooth 0.1 100 -o_fs UM2T_STh_L_dil\n",
      "IsoSurface -input /home/hollander/data/ATAG_space/UM2T/STh_R_dil.nii.gz -isoval 1 -Tsmooth 0.1 100 -o_fs UM2T_STh_R_dil\n",
      "IsoSurface -input /home/hollander/data/ATAG_space/VL1T/STh_L_dil.nii.gz -isoval 1 -Tsmooth 0.1 100 -o_fs VL1T_STh_L_dil\n",
      "IsoSurface -input /home/hollander/data/ATAG_space/VL1T/STh_R_dil.nii.gz -isoval 1 -Tsmooth 0.1 100 -o_fs VL1T_STh_R_dil\n",
      "IsoSurface -input /home/hollander/data/ATAG_space/WSFT/STh_L_dil.nii.gz -isoval 1 -Tsmooth 0.1 100 -o_fs WSFT_STh_L_dil\n",
      "IsoSurface -input /home/hollander/data/ATAG_space/WSFT/STh_R_dil.nii.gz -isoval 1 -Tsmooth 0.1 100 -o_fs WSFT_STh_R_dil\n",
      "IsoSurface -input /home/hollander/data/ATAG_space/WW2T/STh_L_dil.nii.gz -isoval 1 -Tsmooth 0.1 100 -o_fs WW2T_STh_L_dil\n",
      "IsoSurface -input /home/hollander/data/ATAG_space/WW2T/STh_R_dil.nii.gz -isoval 1 -Tsmooth 0.1 100 -o_fs WW2T_STh_R_dil\n"
     ]
    }
   ],
   "source": [
    "for fn in fns:\n",
    "\n",
    "    print('IsoSurface -input /home/hollander/data/ATAG_space/{subject_id}/{mask}.nii.gz -isoval 1 -Tsmooth 0.1 100 -o_fs {subject_id}_{mask}'.format(**reg.match(fn).groupdict()))"
   ]
  },
  {
   "cell_type": "code",
   "execution_count": null,
   "metadata": {
    "collapsed": true
   },
   "outputs": [],
   "source": [
    "f"
   ]
  },
  {
   "cell_type": "code",
   "execution_count": 17,
   "metadata": {
    "collapsed": true
   },
   "outputs": [],
   "source": [
    "mask = nb.load('/Users/gilles/Downloads/ATAG_space/WW2T/STh_R.nii.gz')"
   ]
  },
  {
   "cell_type": "code",
   "execution_count": 18,
   "metadata": {
    "collapsed": true
   },
   "outputs": [],
   "source": [
    "from scipy import ndimage"
   ]
  },
  {
   "cell_type": "code",
   "execution_count": 37,
   "metadata": {},
   "outputs": [],
   "source": [
    "# new_mask = ndimage.binary_erosion(new_mask, iterations=5)"
   ]
  },
  {
   "cell_type": "code",
   "execution_count": 38,
   "metadata": {
    "collapsed": true
   },
   "outputs": [],
   "source": [
    "from nilearn import image"
   ]
  },
  {
   "cell_type": "code",
   "execution_count": 39,
   "metadata": {
    "collapsed": true
   },
   "outputs": [],
   "source": []
  },
  {
   "cell_type": "code",
   "execution_count": null,
   "metadata": {
    "collapsed": true
   },
   "outputs": [],
   "source": []
  }
 ],
 "metadata": {
  "kernelspec": {
   "display_name": "Python 3",
   "language": "python",
   "name": "python3"
  },
  "language_info": {
   "codemirror_mode": {
    "name": "ipython",
    "version": 3
   },
   "file_extension": ".py",
   "mimetype": "text/x-python",
   "name": "python",
   "nbconvert_exporter": "python",
   "pygments_lexer": "ipython3",
   "version": "3.6.1"
  }
 },
 "nbformat": 4,
 "nbformat_minor": 2
}
