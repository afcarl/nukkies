{
 "cells": [
  {
   "cell_type": "code",
   "execution_count": 39,
   "metadata": {
    "collapsed": true
   },
   "outputs": [],
   "source": [
    "import numpy as np"
   ]
  },
  {
   "cell_type": "code",
   "execution_count": 55,
   "metadata": {
    "collapsed": true
   },
   "outputs": [],
   "source": [
    "!cp /Users/gilles/Downloads/stn_surfaces/*.asc /Users/gilles/git/nukkies/notebooks/data"
   ]
  },
  {
   "cell_type": "code",
   "execution_count": 171,
   "metadata": {
    "collapsed": true
   },
   "outputs": [],
   "source": [
    "os.chdir('/Users/gilles/git/nukkies/notebooks/')"
   ]
  },
  {
   "cell_type": "code",
   "execution_count": 172,
   "metadata": {},
   "outputs": [
    {
     "name": "stdout",
     "output_type": "stream",
     "text": [
      "\u001b[31mBI3T_STh_L.asc\u001b[m\u001b[m     \u001b[31mKP6T_STh_L_dil.asc\u001b[m\u001b[m \u001b[31mPF5T_STh_R.asc\u001b[m\u001b[m     \u001b[31mVL1T_STh_R_dil.asc\u001b[m\u001b[m\r\n",
      "\u001b[31mBI3T_STh_L_dil.asc\u001b[m\u001b[m \u001b[31mKP6T_STh_R.asc\u001b[m\u001b[m     \u001b[31mPF5T_STh_R_dil.asc\u001b[m\u001b[m \u001b[31mWSFT_STh_L.asc\u001b[m\u001b[m\r\n",
      "\u001b[31mBI3T_STh_R.asc\u001b[m\u001b[m     \u001b[31mKP6T_STh_R_dil.asc\u001b[m\u001b[m \u001b[31mRSIT_STh_L.asc\u001b[m\u001b[m     \u001b[31mWSFT_STh_L_dil.asc\u001b[m\u001b[m\r\n",
      "\u001b[31mBI3T_STh_R_dil.asc\u001b[m\u001b[m \u001b[31mLV2T_STh_L.asc\u001b[m\u001b[m     \u001b[31mRSIT_STh_L_dil.asc\u001b[m\u001b[m \u001b[31mWSFT_STh_R.asc\u001b[m\u001b[m\r\n",
      "\u001b[31mFMFT_STh_L.asc\u001b[m\u001b[m     \u001b[31mLV2T_STh_L_dil.asc\u001b[m\u001b[m \u001b[31mRSIT_STh_R.asc\u001b[m\u001b[m     \u001b[31mWSFT_STh_R_dil.asc\u001b[m\u001b[m\r\n",
      "\u001b[31mFMFT_STh_L_dil.asc\u001b[m\u001b[m \u001b[31mLV2T_STh_R.asc\u001b[m\u001b[m     \u001b[31mRSIT_STh_R_dil.asc\u001b[m\u001b[m \u001b[31mWW2T_STh_L.asc\u001b[m\u001b[m\r\n",
      "\u001b[31mFMFT_STh_R.asc\u001b[m\u001b[m     \u001b[31mLV2T_STh_R_dil.asc\u001b[m\u001b[m \u001b[31mTS6T_STh_L.asc\u001b[m\u001b[m     \u001b[31mWW2T_STh_L_dil.asc\u001b[m\u001b[m\r\n",
      "\u001b[31mFMFT_STh_R_dil.asc\u001b[m\u001b[m \u001b[31mMRCT_STh_L.asc\u001b[m\u001b[m     \u001b[31mTS6T_STh_L_dil.asc\u001b[m\u001b[m \u001b[31mWW2T_STh_R.asc\u001b[m\u001b[m\r\n",
      "\u001b[31mHCBT_STh_L.asc\u001b[m\u001b[m     \u001b[31mMRCT_STh_L_dil.asc\u001b[m\u001b[m \u001b[31mTS6T_STh_R.asc\u001b[m\u001b[m     \u001b[31mWW2T_STh_R_dil.asc\u001b[m\u001b[m\r\n",
      "\u001b[31mHCBT_STh_L_dil.asc\u001b[m\u001b[m \u001b[31mMRCT_STh_R.asc\u001b[m\u001b[m     \u001b[31mTS6T_STh_R_dil.asc\u001b[m\u001b[m \u001b[1m\u001b[36msmoothed\u001b[m\u001b[m\r\n",
      "\u001b[31mHCBT_STh_R.asc\u001b[m\u001b[m     \u001b[31mMRCT_STh_R_dil.asc\u001b[m\u001b[m \u001b[31mUM2T_STh_L.asc\u001b[m\u001b[m     \u001b[31mstn_L.asc\u001b[m\u001b[m\r\n",
      "\u001b[31mHCBT_STh_R_dil.asc\u001b[m\u001b[m \u001b[31mNM3T_STh_L.asc\u001b[m\u001b[m     \u001b[31mUM2T_STh_L_dil.asc\u001b[m\u001b[m \u001b[31mstn_R.asc\u001b[m\u001b[m\r\n",
      "\u001b[31mKCAT_STh_L.asc\u001b[m\u001b[m     \u001b[31mNM3T_STh_L_dil.asc\u001b[m\u001b[m \u001b[31mUM2T_STh_R.asc\u001b[m\u001b[m     \u001b[31mtest.asc\u001b[m\u001b[m\r\n",
      "\u001b[31mKCAT_STh_L_dil.asc\u001b[m\u001b[m \u001b[31mNM3T_STh_R.asc\u001b[m\u001b[m     \u001b[31mUM2T_STh_R_dil.asc\u001b[m\u001b[m \u001b[31mtest2.asc\u001b[m\u001b[m\r\n",
      "\u001b[31mKCAT_STh_R.asc\u001b[m\u001b[m     \u001b[31mNM3T_STh_R_dil.asc\u001b[m\u001b[m \u001b[31mVL1T_STh_L.asc\u001b[m\u001b[m\r\n",
      "\u001b[31mKCAT_STh_R_dil.asc\u001b[m\u001b[m \u001b[31mPF5T_STh_L.asc\u001b[m\u001b[m     \u001b[31mVL1T_STh_L_dil.asc\u001b[m\u001b[m\r\n",
      "\u001b[31mKP6T_STh_L.asc\u001b[m\u001b[m     \u001b[31mPF5T_STh_L_dil.asc\u001b[m\u001b[m \u001b[31mVL1T_STh_R.asc\u001b[m\u001b[m\r\n"
     ]
    }
   ],
   "source": [
    "!ls data"
   ]
  },
  {
   "cell_type": "code",
   "execution_count": 78,
   "metadata": {
    "collapsed": true
   },
   "outputs": [],
   "source": [
    "!mkdir data/smoothed"
   ]
  },
  {
   "cell_type": "code",
   "execution_count": 173,
   "metadata": {
    "collapsed": true
   },
   "outputs": [],
   "source": [
    "import re\n",
    "path = '/Users/gilles/git/nukkies/notebooks/data'\n",
    "reg = re.compile('.*/(?P<subject_id>[A-Z0-9]{4})_(?P<mask>[a-zA-Z_]+)\\.asc')"
   ]
  },
  {
   "cell_type": "code",
   "execution_count": 174,
   "metadata": {},
   "outputs": [
    {
     "data": {
      "text/plain": [
       "'/Users/gilles/git/nukkies/notebooks/data/smoothed/WW2T_STh_R_smooth.asc'"
      ]
     },
     "execution_count": 174,
     "metadata": {},
     "output_type": "execute_result"
    }
   ],
   "source": [
    "fn"
   ]
  },
  {
   "cell_type": "code",
   "execution_count": 175,
   "metadata": {
    "collapsed": true
   },
   "outputs": [],
   "source": [
    "import subprocess"
   ]
  },
  {
   "cell_type": "code",
   "execution_count": 176,
   "metadata": {
    "collapsed": true
   },
   "outputs": [],
   "source": [
    "import os"
   ]
  },
  {
   "cell_type": "code",
   "execution_count": 190,
   "metadata": {},
   "outputs": [
    {
     "name": "stdout",
     "output_type": "stream",
     "text": [
      "mris_smooth -a 1 -n 1 -nw /Users/gilles/git/nukkies/notebooks/data/BI3T_STh_L_dil.asc /Users/gilles/git/nukkies/notebooks/data/smoothed/BI3T_STh_L_dil_smooth.asc\n",
      "mris_smooth -a 1 -n 1 -nw /Users/gilles/git/nukkies/notebooks/data/BI3T_STh_R_dil.asc /Users/gilles/git/nukkies/notebooks/data/smoothed/BI3T_STh_R_dil_smooth.asc\n",
      "mris_smooth -a 1 -n 1 -nw /Users/gilles/git/nukkies/notebooks/data/FMFT_STh_L_dil.asc /Users/gilles/git/nukkies/notebooks/data/smoothed/FMFT_STh_L_dil_smooth.asc\n",
      "mris_smooth -a 1 -n 1 -nw /Users/gilles/git/nukkies/notebooks/data/FMFT_STh_R_dil.asc /Users/gilles/git/nukkies/notebooks/data/smoothed/FMFT_STh_R_dil_smooth.asc\n",
      "mris_smooth -a 1 -n 1 -nw /Users/gilles/git/nukkies/notebooks/data/HCBT_STh_L_dil.asc /Users/gilles/git/nukkies/notebooks/data/smoothed/HCBT_STh_L_dil_smooth.asc\n",
      "mris_smooth -a 1 -n 1 -nw /Users/gilles/git/nukkies/notebooks/data/HCBT_STh_R_dil.asc /Users/gilles/git/nukkies/notebooks/data/smoothed/HCBT_STh_R_dil_smooth.asc\n",
      "mris_smooth -a 1 -n 1 -nw /Users/gilles/git/nukkies/notebooks/data/KCAT_STh_L_dil.asc /Users/gilles/git/nukkies/notebooks/data/smoothed/KCAT_STh_L_dil_smooth.asc\n",
      "mris_smooth -a 1 -n 1 -nw /Users/gilles/git/nukkies/notebooks/data/KCAT_STh_R_dil.asc /Users/gilles/git/nukkies/notebooks/data/smoothed/KCAT_STh_R_dil_smooth.asc\n",
      "mris_smooth -a 1 -n 1 -nw /Users/gilles/git/nukkies/notebooks/data/KP6T_STh_L_dil.asc /Users/gilles/git/nukkies/notebooks/data/smoothed/KP6T_STh_L_dil_smooth.asc\n",
      "mris_smooth -a 1 -n 1 -nw /Users/gilles/git/nukkies/notebooks/data/KP6T_STh_R_dil.asc /Users/gilles/git/nukkies/notebooks/data/smoothed/KP6T_STh_R_dil_smooth.asc\n",
      "mris_smooth -a 1 -n 1 -nw /Users/gilles/git/nukkies/notebooks/data/LV2T_STh_L_dil.asc /Users/gilles/git/nukkies/notebooks/data/smoothed/LV2T_STh_L_dil_smooth.asc\n",
      "mris_smooth -a 1 -n 1 -nw /Users/gilles/git/nukkies/notebooks/data/LV2T_STh_R_dil.asc /Users/gilles/git/nukkies/notebooks/data/smoothed/LV2T_STh_R_dil_smooth.asc\n",
      "mris_smooth -a 1 -n 1 -nw /Users/gilles/git/nukkies/notebooks/data/MRCT_STh_L_dil.asc /Users/gilles/git/nukkies/notebooks/data/smoothed/MRCT_STh_L_dil_smooth.asc\n",
      "mris_smooth -a 1 -n 1 -nw /Users/gilles/git/nukkies/notebooks/data/MRCT_STh_R_dil.asc /Users/gilles/git/nukkies/notebooks/data/smoothed/MRCT_STh_R_dil_smooth.asc\n",
      "mris_smooth -a 1 -n 1 -nw /Users/gilles/git/nukkies/notebooks/data/NM3T_STh_L_dil.asc /Users/gilles/git/nukkies/notebooks/data/smoothed/NM3T_STh_L_dil_smooth.asc\n",
      "mris_smooth -a 1 -n 1 -nw /Users/gilles/git/nukkies/notebooks/data/NM3T_STh_R_dil.asc /Users/gilles/git/nukkies/notebooks/data/smoothed/NM3T_STh_R_dil_smooth.asc\n",
      "mris_smooth -a 1 -n 1 -nw /Users/gilles/git/nukkies/notebooks/data/PF5T_STh_L_dil.asc /Users/gilles/git/nukkies/notebooks/data/smoothed/PF5T_STh_L_dil_smooth.asc\n",
      "mris_smooth -a 1 -n 1 -nw /Users/gilles/git/nukkies/notebooks/data/PF5T_STh_R_dil.asc /Users/gilles/git/nukkies/notebooks/data/smoothed/PF5T_STh_R_dil_smooth.asc\n",
      "mris_smooth -a 1 -n 1 -nw /Users/gilles/git/nukkies/notebooks/data/RSIT_STh_L_dil.asc /Users/gilles/git/nukkies/notebooks/data/smoothed/RSIT_STh_L_dil_smooth.asc\n",
      "mris_smooth -a 1 -n 1 -nw /Users/gilles/git/nukkies/notebooks/data/RSIT_STh_R_dil.asc /Users/gilles/git/nukkies/notebooks/data/smoothed/RSIT_STh_R_dil_smooth.asc\n",
      "mris_smooth -a 1 -n 1 -nw /Users/gilles/git/nukkies/notebooks/data/TS6T_STh_L_dil.asc /Users/gilles/git/nukkies/notebooks/data/smoothed/TS6T_STh_L_dil_smooth.asc\n",
      "mris_smooth -a 1 -n 1 -nw /Users/gilles/git/nukkies/notebooks/data/TS6T_STh_R_dil.asc /Users/gilles/git/nukkies/notebooks/data/smoothed/TS6T_STh_R_dil_smooth.asc\n",
      "mris_smooth -a 1 -n 1 -nw /Users/gilles/git/nukkies/notebooks/data/UM2T_STh_L_dil.asc /Users/gilles/git/nukkies/notebooks/data/smoothed/UM2T_STh_L_dil_smooth.asc\n",
      "mris_smooth -a 1 -n 1 -nw /Users/gilles/git/nukkies/notebooks/data/UM2T_STh_R_dil.asc /Users/gilles/git/nukkies/notebooks/data/smoothed/UM2T_STh_R_dil_smooth.asc\n",
      "mris_smooth -a 1 -n 1 -nw /Users/gilles/git/nukkies/notebooks/data/VL1T_STh_L_dil.asc /Users/gilles/git/nukkies/notebooks/data/smoothed/VL1T_STh_L_dil_smooth.asc\n",
      "mris_smooth -a 1 -n 1 -nw /Users/gilles/git/nukkies/notebooks/data/VL1T_STh_R_dil.asc /Users/gilles/git/nukkies/notebooks/data/smoothed/VL1T_STh_R_dil_smooth.asc\n",
      "mris_smooth -a 1 -n 1 -nw /Users/gilles/git/nukkies/notebooks/data/WSFT_STh_L_dil.asc /Users/gilles/git/nukkies/notebooks/data/smoothed/WSFT_STh_L_dil_smooth.asc\n",
      "mris_smooth -a 1 -n 1 -nw /Users/gilles/git/nukkies/notebooks/data/WSFT_STh_R_dil.asc /Users/gilles/git/nukkies/notebooks/data/smoothed/WSFT_STh_R_dil_smooth.asc\n",
      "mris_smooth -a 1 -n 1 -nw /Users/gilles/git/nukkies/notebooks/data/WW2T_STh_L_dil.asc /Users/gilles/git/nukkies/notebooks/data/smoothed/WW2T_STh_L_dil_smooth.asc\n",
      "mris_smooth -a 1 -n 1 -nw /Users/gilles/git/nukkies/notebooks/data/WW2T_STh_R_dil.asc /Users/gilles/git/nukkies/notebooks/data/smoothed/WW2T_STh_R_dil_smooth.asc\n"
     ]
    }
   ],
   "source": [
    "import glob\n",
    "fns = glob.glob(os.path.join(path, '*_dil.asc'))\n",
    "\n",
    "for fn in fns:\n",
    "    new_fn = os.path.join(path, 'smoothed/{subject_id}_{mask}_smooth.asc'.format(**reg.match(fn).groupdict()))\n",
    "    \n",
    "    # Due to crappiness of Freesurfer, it does not easily run in a notebook. This code\n",
    "    # was executed in a terminal\n",
    "    print('mris_smooth -a 1 -n 1 -nw {fn} {new_fn}'.format(**locals()))"
   ]
  },
  {
   "cell_type": "code",
   "execution_count": 191,
   "metadata": {
    "collapsed": true
   },
   "outputs": [],
   "source": [
    "def load_data(fn, norm=True):\n",
    "    f = open(fn)\n",
    "    lines = f.readlines(1000)\n",
    "    f.close()\n",
    "    \n",
    "    n_vertices, n_faces = lines[1].split()\n",
    "    n_vertices, n_faces = int(n_vertices), int(n_faces)\n",
    "\n",
    "    vertices = np.genfromtxt(fn, skip_header=2, skip_footer=n_faces, usecols=[0,1, 2])\n",
    "    faces = np.genfromtxt(fn, skip_header=2 + n_vertices, usecols=[0,1, 2])\n",
    "    \n",
    "    if norm:\n",
    "        vertices -= vertices.mean(0)\n",
    "        vertices /= (vertices.max(0) - vertices.min(0))\n",
    "\n",
    "    return vertices, faces"
   ]
  },
  {
   "cell_type": "code",
   "execution_count": 193,
   "metadata": {},
   "outputs": [
    {
     "name": "stdout",
     "output_type": "stream",
     "text": [
      "/Users/gilles/git/nukkies/notebooks/data/smoothed/BI3T_STh_L_dil_smooth.asc\n",
      "/Users/gilles/git/nukkies/notebooks/data/smoothed/BI3T_STh_R_dil_smooth.asc\n",
      "/Users/gilles/git/nukkies/notebooks/data/smoothed/FMFT_STh_L_dil_smooth.asc\n",
      "/Users/gilles/git/nukkies/notebooks/data/smoothed/FMFT_STh_R_dil_smooth.asc\n",
      "/Users/gilles/git/nukkies/notebooks/data/smoothed/HCBT_STh_L_dil_smooth.asc\n",
      "/Users/gilles/git/nukkies/notebooks/data/smoothed/HCBT_STh_R_dil_smooth.asc\n",
      "/Users/gilles/git/nukkies/notebooks/data/smoothed/KCAT_STh_L_dil_smooth.asc\n",
      "/Users/gilles/git/nukkies/notebooks/data/smoothed/KCAT_STh_R_dil_smooth.asc\n",
      "/Users/gilles/git/nukkies/notebooks/data/smoothed/KP6T_STh_L_dil_smooth.asc\n",
      "/Users/gilles/git/nukkies/notebooks/data/smoothed/KP6T_STh_R_dil_smooth.asc\n",
      "/Users/gilles/git/nukkies/notebooks/data/smoothed/LV2T_STh_L_dil_smooth.asc\n",
      "/Users/gilles/git/nukkies/notebooks/data/smoothed/LV2T_STh_R_dil_smooth.asc\n",
      "/Users/gilles/git/nukkies/notebooks/data/smoothed/MRCT_STh_L_dil_smooth.asc\n",
      "/Users/gilles/git/nukkies/notebooks/data/smoothed/MRCT_STh_R_dil_smooth.asc\n",
      "/Users/gilles/git/nukkies/notebooks/data/smoothed/NM3T_STh_L_dil_smooth.asc\n",
      "/Users/gilles/git/nukkies/notebooks/data/smoothed/NM3T_STh_R_dil_smooth.asc\n",
      "/Users/gilles/git/nukkies/notebooks/data/smoothed/PF5T_STh_L_dil_smooth.asc\n",
      "/Users/gilles/git/nukkies/notebooks/data/smoothed/PF5T_STh_R_dil_smooth.asc\n",
      "/Users/gilles/git/nukkies/notebooks/data/smoothed/RSIT_STh_L_dil_smooth.asc\n",
      "/Users/gilles/git/nukkies/notebooks/data/smoothed/RSIT_STh_R_dil_smooth.asc\n",
      "/Users/gilles/git/nukkies/notebooks/data/smoothed/TS6T_STh_L_dil_smooth.asc\n",
      "/Users/gilles/git/nukkies/notebooks/data/smoothed/TS6T_STh_R_dil_smooth.asc\n",
      "/Users/gilles/git/nukkies/notebooks/data/smoothed/UM2T_STh_L_dil_smooth.asc\n",
      "/Users/gilles/git/nukkies/notebooks/data/smoothed/UM2T_STh_R_dil_smooth.asc\n",
      "/Users/gilles/git/nukkies/notebooks/data/smoothed/VL1T_STh_L_dil_smooth.asc\n",
      "/Users/gilles/git/nukkies/notebooks/data/smoothed/VL1T_STh_R_dil_smooth.asc\n",
      "/Users/gilles/git/nukkies/notebooks/data/smoothed/WSFT_STh_L_dil_smooth.asc\n",
      "/Users/gilles/git/nukkies/notebooks/data/smoothed/WSFT_STh_R_dil_smooth.asc\n",
      "/Users/gilles/git/nukkies/notebooks/data/smoothed/WW2T_STh_L_dil_smooth.asc\n",
      "/Users/gilles/git/nukkies/notebooks/data/smoothed/WW2T_STh_R_dil_smooth.asc\n"
     ]
    }
   ],
   "source": [
    "fns = glob.glob(os.path.join(path, 'smoothed', '*_dil_smooth.asc'))\n",
    "\n",
    "for fn in fns:\n",
    "    print(fn)\n",
    "    vertices, faces = load_data(fn)\n",
    "    \n",
    "    \n",
    "    \n",
    "    new_fn = '/Users/gilles/git/nukkies/data/{subject_id}_{mask}.obj'.format(**reg.match(fn).groupdict())\n",
    "\n",
    "    f = open(new_fn, 'w')\n",
    "    f.writelines('o {subject_id}_{mask}\\n'.format(**reg.match(fn).groupdict()))\n",
    "    f.close()\n",
    "    \n",
    "    with open(new_fn, 'ab') as f:\n",
    "        np.savetxt(f, vertices, 'v %f %f %f', )\n",
    "\n",
    "    with open(new_fn, 'ab') as f:\n",
    "        np.savetxt(f, faces+1, 'f %d %d %d')\n",
    "    "
   ]
  },
  {
   "cell_type": "code",
   "execution_count": 188,
   "metadata": {},
   "outputs": [
    {
     "name": "stdout",
     "output_type": "stream",
     "text": [
      "BI3T_STh_L_dil_smooth.obj LV2T_STh_L_dil_smooth.obj TS6T_STh_L_dil_smooth.obj\r\n",
      "BI3T_STh_R_dil_smooth.obj LV2T_STh_R_dil_smooth.obj TS6T_STh_R_dil_smooth.obj\r\n",
      "FMFT_STh_L_dil_smooth.obj MRCT_STh_L_dil_smooth.obj UM2T_STh_L_dil_smooth.obj\r\n",
      "FMFT_STh_R_dil_smooth.obj MRCT_STh_R_dil_smooth.obj UM2T_STh_R_dil_smooth.obj\r\n",
      "HCBT_STh_L_dil_smooth.obj NM3T_STh_L_dil_smooth.obj VL1T_STh_L_dil_smooth.obj\r\n",
      "HCBT_STh_R_dil_smooth.obj NM3T_STh_R_dil_smooth.obj VL1T_STh_R_dil_smooth.obj\r\n",
      "KCAT_STh_L_dil_smooth.obj PF5T_STh_L_dil_smooth.obj WSFT_STh_L_dil_smooth.obj\r\n",
      "KCAT_STh_R_dil_smooth.obj PF5T_STh_R_dil_smooth.obj WSFT_STh_R_dil_smooth.obj\r\n",
      "KP6T_STh_L_dil_smooth.obj RSIT_STh_L_dil_smooth.obj WW2T_STh_L_dil_smooth.obj\r\n",
      "KP6T_STh_R_dil_smooth.obj RSIT_STh_R_dil_smooth.obj WW2T_STh_R_dil_smooth.obj\r\n"
     ]
    }
   ],
   "source": [
    "!ls /Users/gilles/git/nukkies/data/"
   ]
  },
  {
   "cell_type": "markdown",
   "metadata": {},
   "source": [
    "Make some javascript \"code\""
   ]
  },
  {
   "cell_type": "code",
   "execution_count": 189,
   "metadata": {},
   "outputs": [
    {
     "name": "stdout",
     "output_type": "stream",
     "text": [
      "'data/BI3T_STh_L_dil_smooth.obj': null,\n",
      "'data/BI3T_STh_R_dil_smooth.obj': null,\n",
      "'data/FMFT_STh_L_dil_smooth.obj': null,\n",
      "'data/FMFT_STh_R_dil_smooth.obj': null,\n",
      "'data/HCBT_STh_L_dil_smooth.obj': null,\n",
      "'data/HCBT_STh_R_dil_smooth.obj': null,\n",
      "'data/KCAT_STh_L_dil_smooth.obj': null,\n",
      "'data/KCAT_STh_R_dil_smooth.obj': null,\n",
      "'data/KP6T_STh_L_dil_smooth.obj': null,\n",
      "'data/KP6T_STh_R_dil_smooth.obj': null,\n",
      "'data/LV2T_STh_L_dil_smooth.obj': null,\n",
      "'data/LV2T_STh_R_dil_smooth.obj': null,\n",
      "'data/MRCT_STh_L_dil_smooth.obj': null,\n",
      "'data/MRCT_STh_R_dil_smooth.obj': null,\n",
      "'data/NM3T_STh_L_dil_smooth.obj': null,\n",
      "'data/NM3T_STh_R_dil_smooth.obj': null,\n",
      "'data/PF5T_STh_L_dil_smooth.obj': null,\n",
      "'data/PF5T_STh_R_dil_smooth.obj': null,\n",
      "'data/RSIT_STh_L_dil_smooth.obj': null,\n",
      "'data/RSIT_STh_R_dil_smooth.obj': null,\n",
      "'data/TS6T_STh_L_dil_smooth.obj': null,\n",
      "'data/TS6T_STh_R_dil_smooth.obj': null,\n",
      "'data/UM2T_STh_L_dil_smooth.obj': null,\n",
      "'data/UM2T_STh_R_dil_smooth.obj': null,\n",
      "'data/VL1T_STh_L_dil_smooth.obj': null,\n",
      "'data/VL1T_STh_R_dil_smooth.obj': null,\n",
      "'data/WSFT_STh_L_dil_smooth.obj': null,\n",
      "'data/WSFT_STh_R_dil_smooth.obj': null,\n",
      "'data/WW2T_STh_L_dil_smooth.obj': null,\n",
      "'data/WW2T_STh_R_dil_smooth.obj': null,\n"
     ]
    }
   ],
   "source": [
    "os.chdir('/Users/gilles/git/nukkies/')\n",
    "fns = glob.glob('data/*.obj')\n",
    "\n",
    "for fn in fns:\n",
    "    print(\"'{fn}': null,\".format(**locals()))"
   ]
  },
  {
   "cell_type": "code",
   "execution_count": 165,
   "metadata": {
    "collapsed": true
   },
   "outputs": [],
   "source": [
    "from scipy import ndimage"
   ]
  },
  {
   "cell_type": "code",
   "execution_count": null,
   "metadata": {
    "collapsed": true
   },
   "outputs": [],
   "source": [
    "ndimage.binary_closing('')"
   ]
  }
 ],
 "metadata": {
  "kernelspec": {
   "display_name": "Python 3",
   "language": "python",
   "name": "python3"
  },
  "language_info": {
   "codemirror_mode": {
    "name": "ipython",
    "version": 3
   },
   "file_extension": ".py",
   "mimetype": "text/x-python",
   "name": "python",
   "nbconvert_exporter": "python",
   "pygments_lexer": "ipython3",
   "version": "3.6.1"
  }
 },
 "nbformat": 4,
 "nbformat_minor": 2
}
